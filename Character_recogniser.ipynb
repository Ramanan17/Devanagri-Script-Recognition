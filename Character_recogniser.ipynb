{
 "cells": [
  {
   "cell_type": "markdown",
   "metadata": {},
   "source": [
    "# Engilish-Devnagri-Digit Character Recognition Model "
   ]
  },
  {
   "cell_type": "markdown",
   "metadata": {},
   "source": [
    "### Import keras libraries"
   ]
  },
  {
   "cell_type": "code",
   "execution_count": 40,
   "metadata": {},
   "outputs": [],
   "source": [
    "from keras.models import load_model\n",
    "from sklearn.datasets import load_files   \n",
    "from keras.utils import np_utils\n",
    "from glob import glob\n",
    "from keras import applications\n",
    "from keras.preprocessing.image import ImageDataGenerator \n",
    "from keras import optimizers\n",
    "from keras.models import Sequential,Model\n",
    "from keras.layers import Dense, BatchNormalization,Dropout, Flatten, Conv2D, MaxPooling2D,GlobalAveragePooling2D,Activation\n",
    "from keras.layers import Dense, Dropout, Flatten, Conv2D, MaxPool2D,GlobalAveragePooling2D\n",
    "from keras.callbacks import TensorBoard,ReduceLROnPlateau,ModelCheckpoint\n",
    "from keras.optimizers import SGD, Adam\n",
    "from keras import backend as k\n",
    "from keras.models import load_model\n",
    "from keras.models import Sequential\n",
    "from PIL import Image\n",
    "import numpy as np\n",
    "from keras.preprocessing import image\n",
    "from keras.applications.resnet50 import preprocess_input, decode_predictions\n",
    "from keras import backend as K\n",
    "import os\n",
    "from matplotlib.pyplot import imshow"
   ]
  },
  {
   "cell_type": "code",
   "execution_count": 41,
   "metadata": {
    "collapsed": true
   },
   "outputs": [],
   "source": [
    "%matplotlib inline"
   ]
  },
  {
   "cell_type": "code",
   "execution_count": 3,
   "metadata": {
    "collapsed": true
   },
   "outputs": [],
   "source": [
    "def get_digit_model():\n",
    "    model = Sequential()\n",
    "    num_classes = 10\n",
    "    model.add(Conv2D(32, kernel_size=(3, 3),\n",
    "                 activation='relu',\n",
    "                 input_shape=(28,28,1)))\n",
    "    model.add(Conv2D(64, (3, 3), activation='relu'))\n",
    "    model.add(MaxPooling2D(pool_size=(2, 2)))\n",
    "    model.add(Dropout(0.25))\n",
    "    model.add(Flatten())\n",
    "    model.add(Dense(128, activation='relu'))\n",
    "    model.add(Dropout(0.5))\n",
    "    model.add(Dense(num_classes, activation='softmax'))\n",
    "    adam = Adam(lr=0.0001)\n",
    "    model.compile(optimizer= adam, loss='categorical_crossentropy', metrics=['accuracy'])\n",
    "   # model = get_digit_model()\n",
    "    model =load_model('cnn.h5')\n",
    "    return model\n",
    " "
   ]
  },
  {
   "cell_type": "code",
   "execution_count": 53,
   "metadata": {
    "collapsed": true
   },
   "outputs": [],
   "source": [
    "def get_digit(image_location):\n",
    "    model = get_digit_model()\n",
    "    image = Image.open('Digits/img009-035.png')\n",
    "    image = image.resize((28,28),Image.ANTIALIAS).convert('L')\n",
    "    image1 = np.array(image)\n",
    "    image1.resize(28,28,1)\n",
    "    predict = np.zeros([1,28,28,1])\n",
    "    predict[0] = image1\n",
    "   \n",
    "    return np.argmax( model.predict(predict))\n",
    "\n",
    "\n"
   ]
  },
  {
   "cell_type": "code",
   "execution_count": 6,
   "metadata": {
    "collapsed": true
   },
   "outputs": [],
   "source": [
    "def load_image(src):\n",
    "    image = Image.open(src)\n",
    "    image = image.resize((64,64), Image.ANTIALIAS)\n",
    "    resnet_image = (np.array(image.getdata()).reshape(image.size[0], image.size[1], 3))/255\n",
    "    to_crop = image.resize((64,64),Image.ANTIALIAS)\n",
    "    n_array = np.array(to_crop)\n",
    "    top_image = Image.fromarray(n_array[:15,:])\n",
    "    top_image = top_image.resize((64,64),Image.ANTIALIAS)\n",
    "    top_image =(np.array(top_image.getdata()).reshape(image.size[0], image.size[1], 3))/255\n",
    "    to_crop = image.resize((32,32),Image.ANTIALIAS)\n",
    "    n_array = np.array(to_crop)\n",
    "    bottom_image = Image.fromarray(n_array[25:,:])\n",
    "    bottom_image = bottom_image.resize((64,64),Image.ANTIALIAS)\n",
    "    bottom_image =(np.array(bottom_image.getdata()).reshape(image.size[0], image.size[1], 3))/255\n",
    "    vertical_image = Image.fromarray(n_array[:,19:])\n",
    "    vertical_image = vertical_image.resize((64,64),Image.ANTIALIAS)\n",
    "    vertical_image =(np.array(vertical_image.getdata()).reshape(image.size[0], image.size[1], 3))/255\n",
    "    return [resnet_image,top_image,bottom_image,vertical_image]\n"
   ]
  },
  {
   "cell_type": "code",
   "execution_count": 17,
   "metadata": {
    "collapsed": true
   },
   "outputs": [],
   "source": [
    "def get_resnet_model():\n",
    "  \n",
    "  num_classes = 50\n",
    "  base_model = applications.resnet50.ResNet50(weights= None, include_top=False)\n",
    "  x = base_model.output\n",
    "  x = GlobalAveragePooling2D()(x)\n",
    "  x = Dropout(0.7)(x)\n",
    "  predictions = Dense(num_classes, activation= 'softmax')(x)\n",
    "  model = Model(inputs = base_model.input, outputs = predictions)\n",
    " \n",
    "  #sgd = SGD(lr=lrate, momentum=0.9, decay=decay, nesterov=False)\n",
    "  adam = Adam(lr=0.0001)\n",
    "  model.compile(optimizer= adam, loss='categorical_crossentropy', metrics=['accuracy'])\n",
    "  model.load_weights('D:\\\\cvpr\\\\mser\\\\final_model_fold3_weights.h5')\n",
    "  return model\n"
   ]
  },
  {
   "cell_type": "code",
   "execution_count": 21,
   "metadata": {
    "collapsed": true
   },
   "outputs": [],
   "source": [
    "def top_model():\n",
    "    model = Sequential()\n",
    "    num_classes =6\n",
    "    model.add(Conv2D(32, kernel_size=(3, 3),\n",
    "                 activation='relu',\n",
    "                 input_shape=(64,64,3)))\n",
    "    model.add(Conv2D(64, (3, 3), activation='relu',input_shape=(64,64,3)))\n",
    "    model.add(MaxPool2D(pool_size=(2, 2)))\n",
    "    model.add(Dropout(0.25))\n",
    "    model.add(Flatten())\n",
    "    model.add(Dense(128, activation='relu'))\n",
    "    model.add(Dropout(0.5))\n",
    "    model.add(Dense(num_classes, activation='relu'))\n",
    "    adam = Adam(lr=0.0001)\n",
    "    model.compile(optimizer= adam, loss='categorical_crossentropy', metrics=['accuracy'])\n",
    "    model.load_weights('D:\\\\cvpr\\\\matras\\\\Top_weights\\\\Top_model_fold0_weights.h5')\n",
    "    return model"
   ]
  },
  {
   "cell_type": "code",
   "execution_count": 9,
   "metadata": {
    "collapsed": true
   },
   "outputs": [],
   "source": [
    "def bottom_model():\n",
    "    model = Sequential()\n",
    "    num_classes =3\n",
    "    model.add(Conv2D(32, kernel_size=(3, 3),\n",
    "                 activation='relu',\n",
    "                 input_shape=(64,64,3)))\n",
    "    model.add(Conv2D(64, (3, 3), activation='relu',input_shape=(64,64,3)))\n",
    "    model.add(MaxPool2D(pool_size=(2, 2)))\n",
    "    model.add(Dropout(0.25))\n",
    "    model.add(Flatten())\n",
    "    model.add(Dense(128, activation='relu'))\n",
    "    model.add(Dropout(0.5))\n",
    "    model.add(Dense(num_classes, activation='relu'))\n",
    "    adam = Adam(lr=0.0001)\n",
    "    model.compile(optimizer= adam, loss='categorical_crossentropy', metrics=['accuracy'])\n",
    "    model.load_weights('D:\\\\cvpr\\matras\\Bottom_weights\\\\Bottom_model_fold2_weights.h5')\n",
    "    return model"
   ]
  },
  {
   "cell_type": "code",
   "execution_count": 14,
   "metadata": {
    "collapsed": true
   },
   "outputs": [],
   "source": [
    "def vertical_model():\n",
    "    model = Sequential()\n",
    "    num_classes=5\n",
    "    model.add(Conv2D(32, kernel_size=(3, 3),\n",
    "                 activation='relu',\n",
    "                 input_shape=(64,64,3)))\n",
    "    model.add(Conv2D(64, (3, 3), activation='relu',input_shape=(64,64,3)))\n",
    "    model.add(MaxPool2D(pool_size=(2, 2)))\n",
    "    model.add(Dropout(0.25))\n",
    "    model.add(Flatten())\n",
    "    model.add(Dense(128, activation='relu'))\n",
    "    model.add(Dropout(0.5))\n",
    "    model.add(Dense(num_classes, activation='relu'))\n",
    "    adam = Adam(lr=0.0001)\n",
    "    model.compile(optimizer= adam, loss='categorical_crossentropy', metrics=['accuracy'])\n",
    "    model.load_weights('D:\\\\cvpr\\\\matras\\\\Vertical_weights\\\\Vertical_model_fold7_weights.h5')\n",
    "    return model    \n"
   ]
  },
  {
   "cell_type": "code",
   "execution_count": 15,
   "metadata": {},
   "outputs": [],
   "source": [
    "def predict_dev(image_loc):\n",
    "    resnet_model = get_resnet_model()\n",
    "    top = top_model()\n",
    "    Bottom = bottom_model()\n",
    "    vertical = vertical_model()\n",
    "    #%% Label encoder\n",
    "    filelist_resent=os.listdir('F:\\\\cvpr\\\\consonants')    \n",
    "    from sklearn import preprocessing\n",
    "    resnet_label = preprocessing.LabelEncoder()\n",
    "    resnet_label.fit(filelist_resent)\n",
    "    #%%\n",
    "    filelist_top=os.listdir('F:\\\\cvpr\\\\matras\\\\Top')   \n",
    "\n",
    "    top_label = preprocessing.LabelEncoder()\n",
    "    top_label.fit(filelist_top)\n",
    "    #%%\n",
    "    filelist_bottom=os.listdir('F:\\\\cvpr\\\\matras\\\\Bottom')    \n",
    "    #filelist_temp = filelist_bottom[10:]\n",
    "    #filelist_temp.append(filelist_top[10]) \n",
    "    from sklearn import preprocessing\n",
    "    bottom_label = preprocessing.LabelEncoder()\n",
    "    bottom_label.fit(filelist_bottom)\n",
    "    #%%\n",
    "    filelist_vertical=os.listdir('F:\\\\cvpr\\\\matras\\\\Vertical')   \n",
    "\n",
    "    from sklearn import preprocessing\n",
    "    vertical_label = preprocessing.LabelEncoder()\n",
    "    vertical_label.fit(filelist_vertical)  \n",
    "    img = load_image(image_loc)\n",
    "    x = image.img_to_array(img[0])\n",
    "    arr = np.zeros([1,64,64,3])\n",
    "    arr[0] =x\n",
    "    import matplotlib.pyplot as plt\n",
    "    plt.imshow(img[0])\n",
    "\n",
    "    preds = resnet_model.predict(arr)\n",
    "    index = np.argmax(preds)\n",
    "    word = resnet_label.inverse_transform([index])\n",
    "    print(word)\n",
    "    top_image =image.img_to_array(img[1])\n",
    "    y = image.img_to_array(img[1])\n",
    "    arr_top = np.zeros([1,64,64,3])\n",
    "    arr_top[0] =y\n",
    "    preds_top = top.predict(arr_top)\n",
    "    index = np.argmax(preds_top)\n",
    "    word = top_label.inverse_transform([index])\n",
    "    print(word)\n",
    "\n",
    "    bottom_image =image.img_to_array(img[2])\n",
    "    y = image.img_to_array(img[2])\n",
    "    arr_top = np.zeros([1,64,64,3])\n",
    "    arr_top[0] =y\n",
    "    preds_bottom = Bottom.predict(arr_top)\n",
    "    index = np.argmax(preds_bottom)\n",
    "    word = bottom_label.inverse_transform([index])\n",
    "    print(word)\n",
    "    vertical_image =image.img_to_array(img[3])\n",
    "    y = image.img_to_array(img[3])\n",
    "    arr_top = np.zeros([1,64,64,3])\n",
    "    arr_top[0] =y\n",
    "    preds_vertical = vertical.predict(arr_top)\n",
    "    index = np.argmax(preds_vertical)\n",
    "    word = vertical_label.inverse_transform([index])\n",
    "    print(word)\n",
    "    \n",
    "    "
   ]
  },
  {
   "cell_type": "code",
   "execution_count": 27,
   "metadata": {},
   "outputs": [],
   "source": [
    "def get_resnet_model_recog():\n",
    "    img_height,img_width = 64,64 \n",
    "    num_classes = 3\n",
    "    base_model = applications.resnet50.ResNet50(weights= None, include_top=False, input_shape= (img_height,img_width,3))\n",
    "    x = base_model.output\n",
    "    x = GlobalAveragePooling2D()(x)\n",
    "    x = Dropout(0.7)(x)\n",
    "    predictions = Dense(num_classes, activation= 'softmax')(x)\n",
    "    model = Model(inputs = base_model.input, outputs = predictions)\n",
    "\n",
    "    # sgd = SGD(lr=lrate, momentum=0.9, decay=decay, nesterov=False)\n",
    "    adam = Adam(lr=0.0001)\n",
    "    model.compile(optimizer= adam, loss='categorical_crossentropy', metrics=['accuracy'])\n",
    "    model.load_weights('intern_task_1_weights.h5')\n",
    "    return model            \n"
   ]
  },
  {
   "cell_type": "code",
   "execution_count": 33,
   "metadata": {
    "collapsed": true
   },
   "outputs": [],
   "source": [
    "def  predict_type(image_loc):\n",
    "    image = Image.open(image_loc,'r')\n",
    "    image = image.resize((64,64),Image.ANTIALIAS)\n",
    "    image1 = np.array(image)[...,:3]\n",
    "    predict = np.zeros([1,64,64,3])\n",
    "    predict[0] = image1\n",
    "    model =  get_resnet_model_recog()\n",
    "    return np.argmax(model.predict(predict))\n",
    "#predict[0] = X_train[5106:5656]"
   ]
  },
  {
   "cell_type": "code",
   "execution_count": 49,
   "metadata": {},
   "outputs": [],
   "source": [
    "def predict_image(image_loc):\n",
    "    check = predict_type(image_loc)\n",
    "    image = Image.open(image_loc).convert('L')\n",
    "    imshow(np.asarray(image))\n",
    "    if(check == 0):\n",
    "        print('\\nIt is an hindi word')\n",
    "        predict_dev(image_loc)\n",
    "    if(check ==1):\n",
    "        print('\\nIt is a Digit and it is ')\n",
    "        print(get_digit(image_loc))\n",
    "    if(check ==2):\n",
    "        print('\\nIt is a English word and model is yet to be loaded')\n",
    "        "
   ]
  },
  {
   "cell_type": "markdown",
   "metadata": {},
   "source": [
    "### Results\n"
   ]
  },
  {
   "cell_type": "code",
   "execution_count": 60,
   "metadata": {},
   "outputs": [
    {
     "data": {
      "text/html": [
       "<div>\n",
       "<style>\n",
       "    .dataframe thead tr:only-child th {\n",
       "        text-align: right;\n",
       "    }\n",
       "\n",
       "    .dataframe thead th {\n",
       "        text-align: left;\n",
       "    }\n",
       "\n",
       "    .dataframe tbody tr th {\n",
       "        vertical-align: top;\n",
       "    }\n",
       "</style>\n",
       "<table border=\"1\" class=\"dataframe\">\n",
       "  <thead>\n",
       "    <tr style=\"text-align: right;\">\n",
       "      <th></th>\n",
       "      <th>Classifier</th>\n",
       "      <th>Accuray</th>\n",
       "    </tr>\n",
       "  </thead>\n",
       "  <tbody>\n",
       "    <tr>\n",
       "      <th>0</th>\n",
       "      <td>Image Type Classifier(Image,Digits,Devnagri)</td>\n",
       "      <td>96%</td>\n",
       "    </tr>\n",
       "    <tr>\n",
       "      <th>1</th>\n",
       "      <td>Devnagri word Detector</td>\n",
       "      <td>86%</td>\n",
       "    </tr>\n",
       "    <tr>\n",
       "      <th>2</th>\n",
       "      <td>Digit Recognizer</td>\n",
       "      <td>91%</td>\n",
       "    </tr>\n",
       "  </tbody>\n",
       "</table>\n",
       "</div>"
      ],
      "text/plain": [
       "                                     Classifier Accuray\n",
       "0  Image Type Classifier(Image,Digits,Devnagri)     96%\n",
       "1                        Devnagri word Detector     86%\n",
       "2                              Digit Recognizer     91%"
      ]
     },
     "execution_count": 60,
     "metadata": {},
     "output_type": "execute_result"
    }
   ],
   "source": [
    "import pandas as pd\n",
    "data =[['Image Type Classifier(Image,Digits,Devnagri)','96%'],['Devnagri word Detector','86%'],['Digit Recognizer','91%']]\n",
    "df = pd.DataFrame(data,columns=['Classifier','Accuray'])\n",
    "df.style.set_properties(subset=['Classifier'], **{'width': '1000px'})\n",
    "df"
   ]
  },
  {
   "cell_type": "markdown",
   "metadata": {},
   "source": [
    "### A hindi Word"
   ]
  },
  {
   "cell_type": "code",
   "execution_count": 45,
   "metadata": {},
   "outputs": [
    {
     "name": "stderr",
     "output_type": "stream",
     "text": [
      "D:\\ProgramData\\Anaconda3\\envs\\forjupyter\\lib\\site-packages\\keras_applications\\resnet50.py:265: UserWarning: The output shape of `ResNet50(include_top=False)` has been changed since Keras 2.2.0.\n",
      "  warnings.warn('The output shape of `ResNet50(include_top=False)` '\n"
     ]
    },
    {
     "name": "stdout",
     "output_type": "stream",
     "text": [
      "\n",
      "It is an hindi word\n"
     ]
    },
    {
     "name": "stderr",
     "output_type": "stream",
     "text": [
      "D:\\ProgramData\\Anaconda3\\envs\\forjupyter\\lib\\site-packages\\sklearn\\preprocessing\\label.py:151: DeprecationWarning: The truth value of an empty array is ambiguous. Returning False, but in future this will result in an error. Use `array.size > 0` to check that an array is not empty.\n",
      "  if diff:\n"
     ]
    },
    {
     "name": "stdout",
     "output_type": "stream",
     "text": [
      "['Ha']\n"
     ]
    },
    {
     "name": "stderr",
     "output_type": "stream",
     "text": [
      "D:\\ProgramData\\Anaconda3\\envs\\forjupyter\\lib\\site-packages\\sklearn\\preprocessing\\label.py:151: DeprecationWarning: The truth value of an empty array is ambiguous. Returning False, but in future this will result in an error. Use `array.size > 0` to check that an array is not empty.\n",
      "  if diff:\n"
     ]
    },
    {
     "name": "stdout",
     "output_type": "stream",
     "text": [
      "['no_matras']\n"
     ]
    },
    {
     "name": "stderr",
     "output_type": "stream",
     "text": [
      "D:\\ProgramData\\Anaconda3\\envs\\forjupyter\\lib\\site-packages\\sklearn\\preprocessing\\label.py:151: DeprecationWarning: The truth value of an empty array is ambiguous. Returning False, but in future this will result in an error. Use `array.size > 0` to check that an array is not empty.\n",
      "  if diff:\n"
     ]
    },
    {
     "name": "stdout",
     "output_type": "stream",
     "text": [
      "['no_matras']\n"
     ]
    },
    {
     "name": "stderr",
     "output_type": "stream",
     "text": [
      "D:\\ProgramData\\Anaconda3\\envs\\forjupyter\\lib\\site-packages\\sklearn\\preprocessing\\label.py:151: DeprecationWarning: The truth value of an empty array is ambiguous. Returning False, but in future this will result in an error. Use `array.size > 0` to check that an array is not empty.\n",
      "  if diff:\n"
     ]
    },
    {
     "name": "stdout",
     "output_type": "stream",
     "text": [
      "['no_matras']\n"
     ]
    },
    {
     "data": {
      "image/png": "[encoded data removed]",
      "text/plain": [
       "<matplotlib.figure.Figure at 0x272009041d0>"
      ]
     },
     "metadata": {},
     "output_type": "display_data"
    }
   ],
   "source": [
    "predict_image('Ha.png')\n"
   ]
  },
  {
   "cell_type": "markdown",
   "metadata": {},
   "source": [
    "### An English Word"
   ]
  },
  {
   "cell_type": "code",
   "execution_count": 46,
   "metadata": {},
   "outputs": [
    {
     "name": "stderr",
     "output_type": "stream",
     "text": [
      "D:\\ProgramData\\Anaconda3\\envs\\forjupyter\\lib\\site-packages\\keras_applications\\resnet50.py:265: UserWarning: The output shape of `ResNet50(include_top=False)` has been changed since Keras 2.2.0.\n",
      "  warnings.warn('The output shape of `ResNet50(include_top=False)` '\n"
     ]
    },
    {
     "name": "stdout",
     "output_type": "stream",
     "text": [
      "\n",
      "It is a English word and model is yet to be loaded\n"
     ]
    },
    {
     "data": {
      "image/png": "[encoded data removed]",
      "text/plain": [
       "<matplotlib.figure.Figure at 0x27236d29940>"
      ]
     },
     "metadata": {},
     "output_type": "display_data"
    }
   ],
   "source": [
    "predict_image('Letters\\img011-001.png')"
   ]
  },
  {
   "cell_type": "markdown",
   "metadata": {},
   "source": [
    "### A digit "
   ]
  },
  {
   "cell_type": "code",
   "execution_count": 54,
   "metadata": {},
   "outputs": [
    {
     "name": "stderr",
     "output_type": "stream",
     "text": [
      "D:\\ProgramData\\Anaconda3\\envs\\forjupyter\\lib\\site-packages\\keras_applications\\resnet50.py:265: UserWarning: The output shape of `ResNet50(include_top=False)` has been changed since Keras 2.2.0.\n",
      "  warnings.warn('The output shape of `ResNet50(include_top=False)` '\n"
     ]
    },
    {
     "name": "stdout",
     "output_type": "stream",
     "text": [
      "\n",
      "It is a Digit and it is \n"
     ]
    },
    {
     "name": "stderr",
     "output_type": "stream",
     "text": [
      "D:\\ProgramData\\Anaconda3\\envs\\forjupyter\\lib\\site-packages\\keras\\engine\\saving.py:327: UserWarning: Error in loading the saved optimizer state. As a result, your model is starting with a freshly initialized optimizer.\n",
      "  warnings.warn('Error in loading the saved optimizer '\n"
     ]
    },
    {
     "name": "stdout",
     "output_type": "stream",
     "text": [
      "9\n"
     ]
    },
    {
     "data": {
      "image/png": "[encoded data removed]",
      "text/plain": [
       "<matplotlib.figure.Figure at 0x272832d7fd0>"
      ]
     },
     "metadata": {},
     "output_type": "display_data"
    }
   ],
   "source": [
    "predict_image('Digits/img010-054.png')"
   ]
  }
 ],
 "metadata": {
  "kernelspec": {
   "display_name": "Python 3",
   "language": "python",
   "name": "python3"
  },
  "language_info": {
   "codemirror_mode": {
    "name": "ipython",
    "version": 3
   },
   "file_extension": ".py",
   "mimetype": "text/x-python",
   "name": "python",
   "nbconvert_exporter": "python",
   "pygments_lexer": "ipython3",
   "version": "3.6.3"
  }
 },
 "nbformat": 4,
 "nbformat_minor": 2
}
